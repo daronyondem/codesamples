{
 "cells": [
  {
   "cell_type": "code",
   "execution_count": null,
   "metadata": {},
   "outputs": [],
   "source": [
    "%pip install -r requirements.txt"
   ]
  },
  {
   "cell_type": "markdown",
   "metadata": {},
   "source": [
    "### Configuring the Language Model (LLM)\n",
    "\n",
    "Here, we define the configuration for the language model we want to use. This dictionary (`gemma`) specifies:\n",
    "- **model**: The specific model to use (`gemma-2-2b-it`), along with its configuration identifier.\n",
    "- **base_url**: The URL of the local server hosting the model API.\n",
    "- **api_key**: The API key needed for authentication with the model server.\n",
    "- **price**: An optional field to specify the cost per 1,000 tokens (for both input and output tokens).\n",
    "- **cache_seed**: Set to `None` to disable caching, ensuring that each request is processed freshly without using previous results."
   ]
  },
  {
   "cell_type": "code",
   "execution_count": null,
   "metadata": {},
   "outputs": [],
   "source": [
    "gemma = {\n",
    "    \"config_list\": [\n",
    "        {\n",
    "            \"model\": \"lmstudio-community/gemma-2-2b-it-GGUF/gemma-2-2b-it-Q4_K_M.gguf:0\",\n",
    "            \"base_url\": \"http://localhost:1234/v1\",\n",
    "            \"api_key\": \"lm-studio\",\n",
    "            \"price\": [0.001, 0.001],  # Add custom pricing here (per 1k prompt/completion tokens)\n",
    "        },\n",
    "    ],\n",
    "    \"cache_seed\": None,  # Disable caching.\n",
    "}"
   ]
  },
  {
   "cell_type": "markdown",
   "metadata": {},
   "source": [
    "### Initializing Conversable Agents\n",
    "\n",
    "In this cell, we import the `ConversableAgent` class from the `autogen` library and create two agent instances. These agents can interact with each other in a chat-like environment."
   ]
  },
  {
   "cell_type": "code",
   "execution_count": null,
   "metadata": {},
   "outputs": [],
   "source": [
    "from autogen import ConversableAgent\n",
    "\n",
    "lumi = ConversableAgent(\n",
    "    \"Lumi\",\n",
    "    llm_config=gemma,\n",
    "    system_message=\"Your name is Lumi and you are an expert Full Stack developer.\",\n",
    ")\n",
    "\n",
    "vero = ConversableAgent(\n",
    "    \"Vero\",\n",
    "    llm_config=gemma,\n",
    "    system_message=\"Your name is Vero and you are an expert front end developer.\",\n",
    ")"
   ]
  },
  {
   "cell_type": "markdown",
   "metadata": {},
   "source": [
    "### Initiating a Chat Between Agents\n",
    "\n",
    "This cell starts a conversation between the two agents, **Lumi** and **Vero**.\n",
    "\n",
    "The result of the chat is stored in `chat_result`, which will contain the dialogue between the two agents."
   ]
  },
  {
   "cell_type": "code",
   "execution_count": null,
   "metadata": {},
   "outputs": [],
   "source": [
    "chat_result = lumi.initiate_chat(vero, message=\"Tabs or spaces?\", max_turns=2)"
   ]
  }
 ],
 "metadata": {
  "kernelspec": {
   "display_name": "Python 3",
   "language": "python",
   "name": "python3"
  },
  "language_info": {
   "codemirror_mode": {
    "name": "ipython",
    "version": 3
   },
   "file_extension": ".py",
   "mimetype": "text/x-python",
   "name": "python",
   "nbconvert_exporter": "python",
   "pygments_lexer": "ipython3",
   "version": "3.10.11"
  }
 },
 "nbformat": 4,
 "nbformat_minor": 2
}
