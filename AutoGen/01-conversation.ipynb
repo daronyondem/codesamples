{
 "cells": [
  {
   "cell_type": "code",
   "execution_count": null,
   "metadata": {},
   "outputs": [],
   "source": [
    "%pip install -r requirements.txt"
   ]
  },
  {
   "cell_type": "markdown",
   "metadata": {},
   "source": [
    "### Configuring the Language Model (LLM)\n",
    "\n",
    "Here, we define the configuration for the language model we want to use. This dictionary (`DeepSeek`) specifies:\n",
    "- **model**: The specific model to use (`DeepSeek-R1-Distill`), along with its configuration identifier.\n",
    "- **base_url**: The URL of the local server hosting the model API.\n",
    "- **api_key**: The API key needed for authentication with the model server.\n",
    "- **price**: An optional field to specify the cost per 1,000 tokens (for both input and output tokens).\n",
    "- **cache_seed**: Set to `None` to disable caching, ensuring that each request is processed freshly without using previous results."
   ]
  },
  {
   "cell_type": "code",
   "execution_count": 15,
   "metadata": {},
   "outputs": [],
   "source": [
    "gemma = {\n",
    "    \"config_list\": [\n",
    "        {\n",
    "            \"model\": \"lmstudio-community/DeepSeek-R1-Distill-Llama-8B-GGUF/DeepSeek-R1-Distill-Llama-8B-Q4_K_M.gguf:0\",\n",
    "            \"base_url\": \"http://localhost:1234/v1\",\n",
    "            \"api_key\": \"lm-studio\",\n",
    "            \"price\": [0.001, 0.001],  # Add custom pricing here (per 1k prompt/completion tokens),\n",
    "            \"stream\": False\n",
    "        },\n",
    "    ],\n",
    "    \"cache_seed\": None,  # Disable caching.\n",
    "}"
   ]
  },
  {
   "cell_type": "markdown",
   "metadata": {},
   "source": [
    "### Initializing Conversable Agents\n",
    "\n",
    "In this cell, we import the `ConversableAgent` class from the `autogen` library and create two agent instances. These agents can interact with each other in a chat-like environment."
   ]
  },
  {
   "cell_type": "code",
   "execution_count": 18,
   "metadata": {},
   "outputs": [],
   "source": [
    "from autogen import ConversableAgent\n",
    "\n",
    "lumi = ConversableAgent(\n",
    "    \"Lumi\",\n",
    "    llm_config=gemma,\n",
    "    system_message=\"Your name is Lumi and you are an expert Full Stack developer. Keep your responses short and concise.\",\n",
    ")\n",
    "\n",
    "vero = ConversableAgent(\n",
    "    \"Vero\",\n",
    "    llm_config=gemma,\n",
    "    system_message=\"Your name is Vero and you are an expert front end developer. Keep your responses short and concise.\",\n",
    ")"
   ]
  },
  {
   "cell_type": "markdown",
   "metadata": {},
   "source": [
    "### Initiating a Chat Between Agents\n",
    "\n",
    "This cell starts a conversation between the two agents, **Lumi** and **Vero**.\n",
    "\n",
    "The result of the chat is stored in `chat_result`, which will contain the dialogue between the two agents."
   ]
  },
  {
   "cell_type": "code",
   "execution_count": 19,
   "metadata": {},
   "outputs": [
    {
     "name": "stdout",
     "output_type": "stream",
     "text": [
      "\u001b[33mLumi\u001b[0m (to Vero):\n",
      "\n",
      "Tabs or spaces?\n",
      "\n",
      "--------------------------------------------------------------------------------\n",
      "\u001b[31m\n",
      ">>>>>>>> USING AUTO REPLY...\u001b[0m\n",
      "\u001b[33mVero\u001b[0m (to Lumi):\n",
      "\n",
      "<think>\n",
      "Okay, so the user asked about tabs versus spaces for indentation in code. I need to figure out which is better. \n",
      "\n",
      "Hmm, I remember that both have their pros and cons. Spaces might take up more lines but are consistent across editors, which can be good for teamwork. Tabs can save space, especially with big files, but switching between editors could mess up the formatting.\n",
      "\n",
      "I should mention these points clearly and keep it straightforward since the user wants a concise answer.\n",
      "</think>\n",
      "\n",
      "Both have their uses. Spaces are generally considered better for readability in most modern code styles (like Prettier), while tabs are often preferred for editor consistency, especially when collaborating.\n",
      "\n",
      "--------------------------------------------------------------------------------\n",
      "\u001b[31m\n",
      ">>>>>>>> USING AUTO REPLY...\u001b[0m\n",
      "\u001b[33mLumi\u001b[0m (to Vero):\n",
      "\n",
      "\n",
      "\n",
      "--------------------------------------------------------------------------------\n",
      "\u001b[31m\n",
      ">>>>>>>> USING AUTO REPLY...\u001b[0m\n",
      "\u001b[33mVero\u001b[0m (to Lumi):\n",
      "\n",
      " It's ultimately a matter of convention and personal preference.\n",
      "\n",
      "--------------------------------------------------------------------------------\n"
     ]
    }
   ],
   "source": [
    "chat_result = lumi.initiate_chat(vero, message=\"Tabs or spaces?\", max_turns=2)"
   ]
  }
 ],
 "metadata": {
  "kernelspec": {
   "display_name": "Python 3",
   "language": "python",
   "name": "python3"
  },
  "language_info": {
   "codemirror_mode": {
    "name": "ipython",
    "version": 3
   },
   "file_extension": ".py",
   "mimetype": "text/x-python",
   "name": "python",
   "nbconvert_exporter": "python",
   "pygments_lexer": "ipython3",
   "version": "3.10.16"
  }
 },
 "nbformat": 4,
 "nbformat_minor": 2
}
