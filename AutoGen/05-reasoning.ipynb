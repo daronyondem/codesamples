{
 "cells": [
  {
   "cell_type": "code",
   "execution_count": null,
   "metadata": {},
   "outputs": [],
   "source": [
    "%pip install -r requirements.txt"
   ]
  },
  {
   "cell_type": "markdown",
   "metadata": {},
   "source": [
    "### Configuring the Language Model (LLM)\n",
    "\n",
    "Here, we define the configuration for the language model we want to use. This dictionary (`gemma`) specifies:\n",
    "- **model**: The specific model to use (`gemma-2-2b-it`), along with its configuration identifier.\n",
    "- **base_url**: The URL of the local server hosting the model API.\n",
    "- **api_key**: The API key needed for authentication with the model server.\n",
    "- **price**: An optional field to specify the cost per 1,000 tokens (for both input and output tokens).\n",
    "- **cache_seed**: Set to `None` to disable caching, ensuring that each request is processed freshly without using previous results."
   ]
  },
  {
   "cell_type": "code",
   "execution_count": null,
   "metadata": {},
   "outputs": [],
   "source": [
    "gemma = {\n",
    "    \"config_list\": [\n",
    "        {\n",
    "            \"model\": \"lmstudio-community/gemma-2-2b-it-GGUF/gemma-2-2b-it-Q4_K_M.gguf:0\",\n",
    "            \"base_url\": \"http://localhost:1234/v1\",\n",
    "            \"api_key\": \"lm-studio\",\n",
    "            \"price\": [0.001, 0.001],  # Add custom pricing here (per 1k prompt/completion tokens)\n",
    "        },\n",
    "    ],\n",
    "    \"cache_seed\": None,  # Disable caching.\n",
    "}\n",
    "verbose = False"
   ]
  },
  {
   "cell_type": "code",
   "execution_count": null,
   "metadata": {},
   "outputs": [],
   "source": [
    "from autogen import AssistantAgent, UserProxyAgent\n",
    "from autogen.agentchat.contrib.reasoning_agent import ReasoningAgent, ThinkNode, visualize_tree\n",
    "\n",
    "reason_agent = ReasoningAgent(\n",
    "    name=\"reason_agent\",\n",
    "    system_message=\"answer math questions\",\n",
    "    llm_config=gemma,\n",
    "    verbose=verbose,\n",
    "    beam_size=1,  # using beam size 1 for special case of O1-style reasoning.\n",
    "    max_depth=3,\n",
    ")\n",
    "user_proxy = UserProxyAgent(\n",
    "    name=\"user_proxy\",\n",
    "    human_input_mode=\"NEVER\",\n",
    "    code_execution_config=False,\n",
    "    max_consecutive_auto_reply=10,\n",
    ")"
   ]
  },
  {
   "cell_type": "code",
   "execution_count": null,
   "metadata": {},
   "outputs": [],
   "source": [
    "question = \"Alice has 3 brothers and she also has 2 sisters. How many sister does Alices brother has?\"\n",
    "\n",
    "def last_meaningful_msg(sender, recipient, summary_args):\n",
    "    import warnings\n",
    "\n",
    "    if sender == recipient:\n",
    "        return \"TERMINATE\"\n",
    "\n",
    "    summary = \"\"\n",
    "    chat_messages = recipient.chat_messages[sender]\n",
    "\n",
    "    for msg in reversed(chat_messages):\n",
    "        try:\n",
    "            content = msg[\"content\"]\n",
    "            if isinstance(content, str):\n",
    "                summary = content.replace(\"TERMINATE\", \"\")\n",
    "            elif isinstance(content, list):\n",
    "                # Remove the `TERMINATE` word in the content list.\n",
    "                summary = \"\\n\".join(\n",
    "                    x[\"text\"].replace(\"TERMINATE\", \"\") for x in content if isinstance(x, dict) and \"text\" in x\n",
    "                )\n",
    "            if summary.strip().rstrip():\n",
    "                return summary\n",
    "        except (IndexError, AttributeError) as e:\n",
    "            warnings.warn(f\"Cannot extract summary using last_msg: {e}. Using an empty str as summary.\", UserWarning)\n",
    "    return summary"
   ]
  },
  {
   "cell_type": "markdown",
   "metadata": {},
   "source": [
    "![](https://ag2ai.github.io/ag2/assets/images/reasoningagent_2-f550949b23619bca73bd10e0cc24e3dc.png)"
   ]
  },
  {
   "cell_type": "code",
   "execution_count": null,
   "metadata": {},
   "outputs": [],
   "source": [
    "ans = user_proxy.initiate_chat(reason_agent, message=question, summary_method=last_meaningful_msg)"
   ]
  },
  {
   "cell_type": "code",
   "execution_count": null,
   "metadata": {},
   "outputs": [],
   "source": [
    "# After running a query, visualize the reasoning tree\n",
    "print(ans.summary)\n",
    "visualize_tree(reason_agent._root)"
   ]
  },
  {
   "cell_type": "markdown",
   "metadata": {},
   "source": [
    "# Tree of Toughts"
   ]
  },
  {
   "cell_type": "markdown",
   "metadata": {},
   "source": [
    "![](tree_of_thoughts.png)"
   ]
  },
  {
   "cell_type": "code",
   "execution_count": null,
   "metadata": {},
   "outputs": [],
   "source": [
    "reason_agent = ReasoningAgent(\n",
    "    name=\"reason_agent\",\n",
    "    llm_config=gemma,\n",
    "    verbose=verbose,\n",
    "    beam_size=3,\n",
    "    max_depth=3,\n",
    ")\n",
    "user_proxy = UserProxyAgent(\n",
    "    name=\"user_proxy\",\n",
    "    human_input_mode=\"NEVER\",\n",
    "    code_execution_config={\"use_docker\": False},\n",
    "    max_consecutive_auto_reply=10,\n",
    ")"
   ]
  },
  {
   "cell_type": "code",
   "execution_count": null,
   "metadata": {},
   "outputs": [],
   "source": [
    "ans = user_proxy.initiate_chat(\n",
    "    reason_agent,\n",
    "    message=\"Alice has 3 brothers and she also has 2 sisters. How many sister does Alices brother has?\",\n",
    "    summary_method=last_meaningful_msg,\n",
    ")"
   ]
  }
 ],
 "metadata": {
  "kernelspec": {
   "display_name": ".venv",
   "language": "python",
   "name": "python3"
  },
  "language_info": {
   "codemirror_mode": {
    "name": "ipython",
    "version": 3
   },
   "file_extension": ".py",
   "mimetype": "text/x-python",
   "name": "python",
   "nbconvert_exporter": "python",
   "pygments_lexer": "ipython3",
   "version": "3.10.16"
  }
 },
 "nbformat": 4,
 "nbformat_minor": 2
}
