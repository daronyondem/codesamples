{
 "cells": [
  {
   "cell_type": "code",
   "execution_count": null,
   "metadata": {},
   "outputs": [],
   "source": [
    "%pip install -r requirements.txt"
   ]
  },
  {
   "cell_type": "markdown",
   "metadata": {},
   "source": [
    "### Language Model Configuration\n",
    "\n",
    "This cell sets up the configuration for the LLM (Language Model), defining the model details, API endpoint, and authentication. The `cache_seed` is set to `None` to disable result caching."
   ]
  },
  {
   "cell_type": "code",
   "execution_count": 1,
   "metadata": {},
   "outputs": [],
   "source": [
    "gemma = {\n",
    "    \"config_list\": [\n",
    "        {\n",
    "            \"model\": \"lmstudio-community/DeepSeek-R1-Distill-Llama-8B-GGUF/DeepSeek-R1-Distill-Llama-8B-Q4_K_M.gguf:0\",\n",
    "            \"base_url\": \"http://localhost:1234/v1\",\n",
    "            \"api_key\": \"lm-studio\",\n",
    "            \"price\": [0.001, 0.001],  # Add custom pricing here (per 1k prompt/completion tokens),\n",
    "            \"stream\": False\n",
    "        },\n",
    "    ],\n",
    "    \"cache_seed\": None,  # Disable caching.\n",
    "}"
   ]
  },
  {
   "cell_type": "markdown",
   "metadata": {},
   "source": [
    "### Importing Required Modules\n",
    "\n",
    "- `Image` and `display` from `IPython.display` for displaying images in the notebook.\n",
    "- The `autogen` library, which provides the tools for creating agents and handling conversations.\n",
    "- `LocalCommandLineCodeExecutor` from `autogen.coding`, a utility that allows the assistant agent to execute local shell commands for coding tasks.\n"
   ]
  },
  {
   "cell_type": "code",
   "execution_count": 2,
   "metadata": {},
   "outputs": [],
   "source": [
    "from IPython.display import Image, display\n",
    "\n",
    "import autogen\n",
    "from autogen.coding import LocalCommandLineCodeExecutor"
   ]
  },
  {
   "cell_type": "markdown",
   "metadata": {},
   "source": [
    "### Creating the Assistant and User Proxy Agents\n",
    "\n",
    "Setting up two agents:\n",
    "- **AssistantAgent (`assistant`)**:\n",
    "  - Uses the LLM configuration (`gemma`).\n",
    "  - Acts as the main AI assistant, capable of handling tasks and responding based on the LLM's capabilities.\n",
    "\n",
    "- **UserProxyAgent (`user_proxy`)**:\n",
    "  - Represents a user agent that interacts with the assistant.\n",
    "  - `human_input_mode` is set to `\"NEVER\"`, meaning it won't require direct user input.\n",
    "  - The agent can auto-reply up to 10 times consecutively before requiring further input or ending the task.\n",
    "  - The `is_termination_msg` lambda function checks for specific keywords (`\"TERMINATE\"` or `\"COMPLETED\"`) to decide when to stop the conversation.\n",
    "  - `code_execution_config` specifies the use of `LocalCommandLineCodeExecutor`, which allows the assistant to run shell commands in a local working directory (`coding`)."
   ]
  },
  {
   "cell_type": "code",
   "execution_count": 3,
   "metadata": {},
   "outputs": [],
   "source": [
    "# create an AssistantAgent named \"assistant\"\n",
    "assistant = autogen.AssistantAgent(\n",
    "    name=\"assistant\",\n",
    "    llm_config=gemma, \n",
    ")\n",
    "\n",
    "# create a UserProxyAgent instance named \"user_proxy\"\n",
    "user_proxy = autogen.UserProxyAgent(\n",
    "    name=\"user_proxy\",\n",
    "    human_input_mode=\"NEVER\",\n",
    "    max_consecutive_auto_reply=10,\n",
    "    is_termination_msg=lambda x: \"TERMINATE\" in x.get(\"content\", \"\").upper() or \"COMPLETED\" in x.get(\"content\", \"\").upper(),\n",
    "    code_execution_config={\n",
    "        # the executor to run the generated code\n",
    "        \"executor\": LocalCommandLineCodeExecutor(work_dir=\"coding\"),\n",
    "    },\n",
    ")"
   ]
  },
  {
   "cell_type": "markdown",
   "metadata": {},
   "source": [
    "### Starting the Interaction\n",
    "\n",
    "Initiating a chat between the `user_proxy` and the `assistant`:\n",
    "- The `user_proxy` sends an initial message to the `assistant`: `\"How many r are in rasberry?\"`, unintentionally misspelling \"raspberry.\"\n",
    "- The `summary_method` is set to `\"reflection_with_llm\"`, meaning the response summary will leverage the LLM for improved reflection and analysis.\n",
    "\n",
    "The result of the conversation (`chat_res`) will contain the exchange between the two agents, including any code execution if requested by the assistant."
   ]
  },
  {
   "cell_type": "code",
   "execution_count": 4,
   "metadata": {},
   "outputs": [
    {
     "name": "stdout",
     "output_type": "stream",
     "text": [
      "\u001b[33muser_proxy\u001b[0m (to assistant):\n",
      "\n",
      "How many r are in rasberry?\n",
      "\n",
      "--------------------------------------------------------------------------------\n",
      "\u001b[33massistant\u001b[0m (to user_proxy):\n",
      "\n",
      "<think>\n",
      "Okay, so I'm trying to figure out how many 'r's are in \"rasberry.\" Let me break this down step by step. First, I'll write down the word: R-A-S-B-E-R-R-Y. Hmm, let's count each letter one by one.\n",
      "\n",
      "Starting with the first letter, it's 'R'—that's one 'r.' Then we have 'A,' which is not an 'r. Next is 'S,' also not an 'r. Moving on to 'B,' still no 'r there. The next letter is 'E,' so that's not an 'r either. Now, the fifth letter is another 'R'—so that's two 'r's now.\n",
      "\n",
      "Wait, but then I see another 'R' in \"rasberry\"—is that correct? Let me double-check. Oh, wait, the word is spelled R-A-S-B-E-R-R-Y. So after 'E,' there are two 'R's before the 'Y.' That means we have three 'r's: one at the beginning, and then two more in the middle. Wait, no, that doesn't sound right because I'm seeing only three letters, but maybe I'm miscounting.\n",
      "\n",
      "Wait, perhaps the correct spelling is R-A-S-B-E-R-R-Y, so after 'E,' there are two 'R's, making it three 'r's in total: one at the start and two consecutive later. But actually, when I think about \"raspberry,\" it's spelled with an 'e' followed by two 'r's before the 'y.' So that would make three 'r's.\n",
      "\n",
      "Wait, no, maybe I'm confusing it with another word. Let me write it out: R-A-S-P-B-E-R-R-Y. Wait, no, the correct spelling is R-A-S-P-E-R-R-Y, right? So the letters are R, A, S, P, E, R, R, Y. That would mean there are three 'r's: one at the very beginning and then two more after 'E.' So in total, three 'r's.\n",
      "\n",
      "But now I'm getting confused because I think \"raspberry\" might only have three 'r's. Wait, no, let me count again. R (1), A (2), S (3), P (4), E (5), R (6), R (7), Y (8). Oh wait, that's incorrect. The correct spelling is R-A-S-P-E-R-R-Y. So the letters are R, A, S, P, E, R, R, Y. That means there are three 'r's: positions 1, 5, and 6.\n",
      "\n",
      "Wait, no, position 1 is R (1), then after that, the next R is at position 5 (the letter before 'E'), but actually, in \"raspberry,\" it's spelled as R-A-S-P-E-R-R-Y. So after 'E,' there are two 'R's. That would make three 'r's: one at the start and then two more. But that seems like too many because I thought it was only two.\n",
      "\n",
      "Wait, perhaps I'm overcomplicating this. Let me just spell it out: R-A-S-P-E-R-R-Y. So the letters are:\n",
      "\n",
      "1. R\n",
      "2. A\n",
      "3. S\n",
      "4. P\n",
      "5. E\n",
      "6. R\n",
      "7. R\n",
      "8. Y\n",
      "\n",
      "So that's three 'R's in total. Wait, but I thought \"raspberry\" only had two 'r's. Maybe I'm making a mistake here.\n",
      "\n",
      "Alternatively, perhaps the correct spelling is R-A-S-P-E-R-R-Y with three 'r's. But when I look it up in my mind, I think the word is spelled with one 'R' at the beginning and then two more after 'E,' making three in total. However, I might be confusing it with another word.\n",
      "\n",
      "To clarify, maybe I should write down each letter and count them:\n",
      "\n",
      "1. R\n",
      "2. A\n",
      "3. S\n",
      "4. P\n",
      "5. E\n",
      "6. R\n",
      "7. R\n",
      "8. Y\n",
      "\n",
      "Yes, that's three 'r's: positions 1, 6, and 7.\n",
      "\n",
      "But wait, when I think about the pronunciation, it's pronounced like \"rasp-uh-bee-ree.\" So in the spelling, after 'E,' there are two 'R's. Therefore, the total number of 'r's is three: one at the beginning and two after 'E.'\n",
      "\n",
      "Wait, no, that doesn't make sense because in the word \"raspberry,\" it's spelled as R-A-S-P-E-R-R-Y, which would indeed have three 'r's.\n",
      "\n",
      "Alternatively, perhaps I'm wrong and there are only two 'r's. Let me think again: R (1), then after 'E,' R (2) and another R (3). So that's three 'r's. But I might be miscounting.\n",
      "\n",
      "Wait, no, the correct spelling is R-A-S-P-E-R-R-Y, so positions 1, 6, and 7 are 'R's. That makes three 'r's in total.\n",
      "\n",
      "But when I think about it, \"raspberry\" has one 'r' at the beginning and then two more towards the end, making a total of three 'r's. However, I might be wrong because sometimes people might forget one or count incorrectly.\n",
      "\n",
      "To make sure, perhaps I should write out each letter:\n",
      "\n",
      "R, A, S, P, E, R, R, Y.\n",
      "\n",
      "Counting the 'R's: 1 (first), 2 (sixth), and 3 (seventh). So three 'r's.\n",
      "\n",
      "But wait, sometimes in words, consecutive letters can be overlooked. For example, if the word was spelled as RA-S-P-ER-Y, then after 'E' there are two 'R's, making it three 'r's total.\n",
      "\n",
      "Yes, that seems correct. So the answer is three 'r's in \"rasberry.\"\n",
      "</think>\n",
      "\n",
      "To determine how many 'r's are in \"rasberry,\" we'll examine each letter step by step:\n",
      "\n",
      "1. **Letter Breakdown**: R-A-S-P-E-R-R-Y\n",
      "2. Identify each position where an 'R' appears.\n",
      "   - Position 1: R (1)\n",
      "   - Position 5: E\n",
      "   - Position 6: R (2)\n",
      "   - Position 7: R (3)\n",
      "\n",
      "**Total Count**: There are three 'r's in \"rasberry.\"\n",
      "\n",
      "TERMINATE\n",
      "\n",
      "--------------------------------------------------------------------------------\n"
     ]
    }
   ],
   "source": [
    "# the assistant receives a message from the user_proxy, which contains the task description\n",
    "chat_res = user_proxy.initiate_chat(\n",
    "    assistant,\n",
    "    message=\"\"\"How many r are in rasberry?\"\"\",\n",
    "    summary_method=\"reflection_with_llm\",\n",
    ")"
   ]
  }
 ],
 "metadata": {
  "kernelspec": {
   "display_name": "Python 3",
   "language": "python",
   "name": "python3"
  },
  "language_info": {
   "codemirror_mode": {
    "name": "ipython",
    "version": 3
   },
   "file_extension": ".py",
   "mimetype": "text/x-python",
   "name": "python",
   "nbconvert_exporter": "python",
   "pygments_lexer": "ipython3",
   "version": "3.10.16"
  }
 },
 "nbformat": 4,
 "nbformat_minor": 2
}
