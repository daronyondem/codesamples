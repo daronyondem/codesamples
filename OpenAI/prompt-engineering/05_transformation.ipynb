{
 "cells": [
  {
   "cell_type": "code",
   "execution_count": null,
   "metadata": {},
   "outputs": [],
   "source": [
    "import os\n",
    "from dotenv import load_dotenv\n",
    "\n",
    "# Load environment variables\n",
    "load_dotenv()\n",
    "\n",
    "import os\n",
    "from openai import AzureOpenAI\n",
    "\n",
    "CHAT_MODEL =  os.environ.get(\"OPENAI_CHAT_DEPLOYMENT_NAME\") \n",
    "\n",
    "client = AzureOpenAI(\n",
    "  api_key = os.getenv(\"OPENAI_API_KEY\"),  \n",
    "  api_version = \"2023-05-15\",\n",
    "  azure_endpoint = os.getenv(\"OPENAI_API_BASE\")\n",
    ")"
   ]
  },
  {
   "cell_type": "code",
   "execution_count": null,
   "metadata": {},
   "outputs": [],
   "source": [
    "def get_completion(prompt, model=CHAT_MODEL):\n",
    "    response = client.chat.completions.create(\n",
    "        temperature=0, # this is the degree of randomness of the model's output\n",
    "        model=\"drn-chat-dev2\", # This is currently gpt-35-turbo\n",
    "        messages=[\n",
    "            {\"role\": \"user\", \"content\": prompt}\n",
    "        ]\n",
    "    )\n",
    "    return response.choices[0].message.content"
   ]
  },
  {
   "cell_type": "markdown",
   "metadata": {},
   "source": [
    "### Format Conversions"
   ]
  },
  {
   "cell_type": "code",
   "execution_count": null,
   "metadata": {},
   "outputs": [],
   "source": [
    "csv = f\"\"\"\n",
    "Name,Age,Location,Job\n",
    "John,28,New York,Engineer\n",
    "Jane,32,Los Angeles,Doctor\n",
    "Harry,24,Chicago,Teacher\n",
    "Emma,30,San Francisco,Designer\n",
    "Oliver,35,Seattle,Software Developer\n",
    "\"\"\"\n",
    "\n",
    "prompt = f\"\"\"\n",
    "Convert the CSV between dashed lines into a markdown table.\n",
    "\n",
    "---\n",
    "{csv}\n",
    "---\n",
    "\"\"\"\n",
    "\n",
    "response = get_completion(prompt)\n",
    "print(response)"
   ]
  },
  {
   "cell_type": "markdown",
   "metadata": {},
   "source": [
    "### Language Translation"
   ]
  },
  {
   "cell_type": "code",
   "execution_count": null,
   "metadata": {},
   "outputs": [],
   "source": [
    "dialog = f\"\"\"\n",
    "Person A: Hey, how you doin'?\n",
    "Person B: Not too bad, just trying to get used to this chilly weather.\n",
    "Person A: Yeah, it's that time of the year. The Big Apple doesn't play around when it comes to winter.\n",
    "Person B: You said it! By the way, have you tried the new coffee shop on 5th?\n",
    "Person A: Oh, the one next to the bookstore?\n",
    "Person B: That's the one! Their bagels, man, they’re outta this world.\n",
    "Person A: Sounds like a plan for tomorrow's breakfast then. I can never resist a good New York bagel!\n",
    "Person B: You and me both, buddy. Anyway, I gotta run. Catch you later?\n",
    "Person A: Sure thing, stay warm out there!\n",
    "\"\"\"\n",
    "\n",
    "prompt = f\"\"\"\n",
    "Convert the dialog between dashed lines to formal Turkish.\n",
    "\n",
    "---\n",
    "{dialog}\n",
    "---\n",
    "\"\"\"\n",
    "\n",
    "response = get_completion(prompt)\n",
    "print(response)"
   ]
  },
  {
   "cell_type": "markdown",
   "metadata": {},
   "source": [
    "### Spellcheck and Grammar Correction"
   ]
  },
  {
   "cell_type": "code",
   "execution_count": null,
   "metadata": {},
   "outputs": [],
   "source": [
    "dialog = f\"\"\"\n",
    "I doesnt likes to reading books becose it is to boring. My freind, they don't likes it to. We prefers to playing video games and watching moovies. Their is a new game that came's out yesterday, I wants to buy it soon.\n",
    "\"\"\"\n",
    "\n",
    "prompt = f\"\"\"\n",
    "Spellcheck the text between the dashed lines. Provide the correct spelling for any misspelled words.\n",
    "\n",
    "---\n",
    "{dialog}\n",
    "---\n",
    "\"\"\"\n",
    "\n",
    "response = get_completion(prompt)\n",
    "print(response)"
   ]
  }
 ],
 "metadata": {
  "kernelspec": {
   "display_name": "openai-qna-env",
   "language": "python",
   "name": "python3"
  },
  "language_info": {
   "codemirror_mode": {
    "name": "ipython",
    "version": 3
   },
   "file_extension": ".py",
   "mimetype": "text/x-python",
   "name": "python",
   "nbconvert_exporter": "python",
   "pygments_lexer": "ipython3",
   "version": "3.11.7"
  },
  "orig_nbformat": 4,
  "vscode": {
   "interpreter": {
    "hash": "c4ee1bbf3137c7ea9420c4fd488a55642063e5739fe2a7286130d9ba47405b69"
   }
  }
 },
 "nbformat": 4,
 "nbformat_minor": 2
}
