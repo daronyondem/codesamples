{
 "cells": [
  {
   "cell_type": "code",
   "execution_count": null,
   "metadata": {},
   "outputs": [],
   "source": [
    "import os\n",
    "from dotenv import load_dotenv\n",
    "\n",
    "# Load environment variables\n",
    "load_dotenv()\n",
    "\n",
    "import os\n",
    "from openai import AzureOpenAI\n",
    "\n",
    "CHAT_MODEL =  os.environ.get(\"OPENAI_CHAT_DEPLOYMENT_NAME\") \n",
    "\n",
    "client = AzureOpenAI(\n",
    "  api_key = os.getenv(\"OPENAI_API_KEY\"),  \n",
    "  api_version = \"2023-05-15\",\n",
    "  azure_endpoint = os.getenv(\"OPENAI_API_BASE\")\n",
    ")"
   ]
  },
  {
   "cell_type": "code",
   "execution_count": null,
   "metadata": {},
   "outputs": [],
   "source": [
    "def get_completion(prompt, model=CHAT_MODEL):\n",
    "    response = client.chat.completions.create(\n",
    "        temperature=0, # this is the degree of randomness of the model's output\n",
    "        model=\"drn-chat-dev2\", # This is currently gpt-35-turbo\n",
    "        messages=[\n",
    "            {\"role\": \"user\", \"content\": prompt}\n",
    "        ]\n",
    "    )\n",
    "    return response.choices[0].message.content"
   ]
  },
  {
   "cell_type": "markdown",
   "metadata": {},
   "source": [
    "### Self-Consistency\n",
    "\n",
    "The primary objective is to improve the simplistic greedy decoding often used in chain-of-thought (CoT) prompting. In this technique, several diverse reasoning paths are sampled through few-shot CoT. The responses generated from these paths are then evaluated, and the most consistent answer is selected. This method has a significant impact on enhancing the effectiveness of CoT prompting, particularly in tasks that require arithmetic and commonsense reasoning. \n",
    "\n",
    "Reference: https://arxiv.org/abs/2203.11171\n",
    "\n",
    "![Self-Consistency](./images/self-consistency-cot.png)"
   ]
  },
  {
   "cell_type": "code",
   "execution_count": null,
   "metadata": {},
   "outputs": [],
   "source": [
    "prompt = f\"\"\"\n",
    "Jack is looking at Anne. Anne is looking at George. Jack is married and George is not married. We do not know if Anne is married or not. Is a married person looking at an unmarried person?\n",
    "\"\"\"\n",
    "\n",
    "response = get_completion(prompt)\n",
    "print(response)"
   ]
  },
  {
   "cell_type": "code",
   "execution_count": null,
   "metadata": {},
   "outputs": [],
   "source": [
    "prompt = f\"\"\"\n",
    "Q: Nina is looking at Oscar. Oscar is looking at Paul. Nina is not married and Paul is married. We do not know if Oscar is married or not. Is a married person looking at an unmarried person?\n",
    "A: Let’s consider both possibilities for Oscar’s status:\n",
    "– If Oscar is married, then Oscar (married) is looking at Paul (married). That’s a married person looking at a married person, not a married-to-unmarried scenario.\n",
    "– If Oscar is unmarried, then Nina (unmarried) is looking at Oscar (unmarried). That’s an unmarried person looking at an unmarried person, also not a married-to-unmarried scenario.\n",
    "In either case, we do not have a married person looking at an unmarried person. Answer: NO.\n",
    "\n",
    "Example 2:\n",
    "Q: Ray is looking at Liv. Liv is looking at Sam. Ray is married and Sam is not married. We do not know if Liv is married or not. Is a married person looking at an unmarried person?\n",
    "A: Let’s consider both possibilities for Liv’s status:\n",
    "– If Liv is married, then Liv (married) is looking at Sam (unmarried). That is a married person looking at an unmarried person.\n",
    "– If Liv is unmarried, then Ray (married) is looking at Liv (unmarried). That is a married person looking at an unmarried person as well.\n",
    "In either case, the condition is satisfied. Answer: YES.\n",
    "\n",
    "Q: Jack is looking at Anne. Anne is looking at George. Jack is married, and George is not married. Is a married person looking at an unmarried person?\n",
    "A:\n",
    "\"\"\"\n",
    "\n",
    "response = get_completion(prompt)\n",
    "print(response)"
   ]
  },
  {
   "cell_type": "markdown",
   "metadata": {},
   "source": [
    "### Generated Knowledge Prompting\n",
    "\n",
    "Reference: https://arxiv.org/pdf/2110.08387.pdf\n",
    "\n",
    "![](./images/generated-knowledge-prompting.png)"
   ]
  },
  {
   "cell_type": "code",
   "execution_count": null,
   "metadata": {},
   "outputs": [],
   "source": [
    "prompt = f\"\"\"\n",
    "Which country has a larger land area, Peru or Colombia?\n",
    "\"\"\"\n",
    "\n",
    "response = get_completion(prompt)\n",
    "print(response)\n",
    "\n",
    "# Correct Answer = Peru."
   ]
  },
  {
   "cell_type": "code",
   "execution_count": null,
   "metadata": {},
   "outputs": [],
   "source": [
    "prompt = f\"\"\"\n",
    "Could you provide an overview of Peru and Colombia, including their population, land area, and major geographical features?\n",
    "\"\"\"\n",
    "\n",
    "response = get_completion(prompt)\n",
    "print(response)"
   ]
  },
  {
   "cell_type": "code",
   "execution_count": null,
   "metadata": {},
   "outputs": [],
   "source": [
    "prompt = f\"\"\"\n",
    "Sure! Here is an overview of Peru and Colombia:\n",
    "\n",
    "Peru:\n",
    "- Population: Approximately 33 million people\n",
    "- Land area: 1,285,216 square kilometers\n",
    "- Major geographical features: Peru is known for its diverse landscapes, including the Andes mountains, the Amazon rainforest, and the Pacific coast. The Andes mountains run through the center of the country, with some peaks reaching over 6,000 meters in elevation. The Amazon rainforest covers a large portion of eastern Peru, and the country also has a long coastline along the Pacific Ocean.\n",
    "\n",
    "Colombia:\n",
    "- Population: Approximately 50 million people\n",
    "- Land area: 1,141,748 square kilometers\n",
    "- Major geographical features: Colombia is known for its diverse landscapes, including the Andes mountains, the Amazon rainforest, and the Caribbean coast. The Andes mountains run through the western part of the country, with some peaks reaching over 5,000 meters in elevation. The Amazon rainforest covers a large portion of southern Colombia, and the country also has a long coastline along the Caribbean Sea.\n",
    "\n",
    "Both Peru and Colombia are located in South America and have rich cultural histories, diverse ecosystems, and vibrant cities. They are popular destinations for tourists seeking adventure, history, and natural beauty.\n",
    "\n",
    "Which country has a larger land area, Peru or Colombia?\n",
    "\"\"\"\n",
    "\n",
    "response = get_completion(prompt)\n",
    "print(response)"
   ]
  },
  {
   "cell_type": "markdown",
   "metadata": {},
   "source": [
    "### Tree of Thoughts (ToT)\n",
    "\n",
    "References:\n",
    "https://arxiv.org/abs/2305.10601\n",
    "https://arxiv.org/abs/2305.08291"
   ]
  },
  {
   "cell_type": "markdown",
   "metadata": {},
   "source": [
    "### Tree of Thoughts (ToT)\n",
    "\n",
    "![](./images/tot.png)\n",
    "\n",
    "References:   \n",
    "https://arxiv.org/abs/2305.10601     \n",
    "https://arxiv.org/abs/2305.08291   "
   ]
  },
  {
   "cell_type": "code",
   "execution_count": null,
   "metadata": {},
   "outputs": [],
   "source": [
    "prompt = f\"\"\"\n",
    "Imagine five different experts are answering this question.\n",
    "All experts will write down 1 step of their thinking,\n",
    "then share it with the group.\n",
    "Then all experts will go on to the next step, etc.\n",
    "If any expert realises they're wrong at any point then they leave.\n",
    "The question is...\n",
    "\n",
    "Which country has a larger land area, Peru or Colombia?\n",
    "\n",
    "Give me a final conclusion.\n",
    "\"\"\"\n",
    "#Prompt reference: https://github.com/dave1010/tree-of-thought-prompting\n",
    "\n",
    "response = get_completion(prompt)\n",
    "print(response)"
   ]
  },
  {
   "cell_type": "markdown",
   "metadata": {},
   "source": [
    "### Rephase and Respond (RaR)\n",
    "\n",
    "References:\n",
    "https://arxiv.org/abs/2311.04205"
   ]
  },
  {
   "cell_type": "code",
   "execution_count": null,
   "metadata": {},
   "outputs": [],
   "source": [
    "prompt = f\"\"\"\n",
    "Paul is born on 20th of January 1990. Was Paul born in an odd day?\n",
    "\"\"\"\n",
    "\n",
    "response = get_completion(prompt)\n",
    "print(response)"
   ]
  },
  {
   "cell_type": "code",
   "execution_count": null,
   "metadata": {},
   "outputs": [],
   "source": [
    "prompt = f\"\"\"\n",
    "Paul is born on 20th of January 1990. Was Paul born in an odd day?\n",
    "\n",
    "Rephrase and expand the question, and respond.\n",
    "\"\"\"\n",
    "\n",
    "response = get_completion(prompt)\n",
    "print(response)"
   ]
  },
  {
   "cell_type": "markdown",
   "metadata": {},
   "source": [
    "### Retrievel Augmented Generation\n",
    "\n",
    "![](./images/rag.jpg)\n",
    "\n",
    "Reference: https://arxiv.org/pdf/2005.11401.pdf"
   ]
  },
  {
   "cell_type": "markdown",
   "metadata": {},
   "source": [
    "### Emotional Prompting!\n",
    "\n",
    "\n",
    "\n",
    "![](./images/tipping-llm.png)\n",
    "\n",
    "References: \n",
    "https://x.com/voooooogel/status/1730726744314069190   \n",
    "Large Language Models Understand and Can be Enhanced by Emotional Stimuli - https://arxiv.org/abs/2307.11760 "
   ]
  }
 ],
 "metadata": {
  "kernelspec": {
   "display_name": "prompten",
   "language": "python",
   "name": "python3"
  },
  "language_info": {
   "codemirror_mode": {
    "name": "ipython",
    "version": 3
   },
   "file_extension": ".py",
   "mimetype": "text/x-python",
   "name": "python",
   "nbconvert_exporter": "python",
   "pygments_lexer": "ipython3",
   "version": "3.10.16"
  },
  "orig_nbformat": 4
 },
 "nbformat": 4,
 "nbformat_minor": 2
}
