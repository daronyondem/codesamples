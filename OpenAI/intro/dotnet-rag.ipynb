{
 "cells": [
  {
   "cell_type": "code",
   "execution_count": null,
   "metadata": {
    "dotnet_interactive": {
     "language": "csharp"
    },
    "polyglot_notebook": {
     "kernelName": "csharp"
    }
   },
   "outputs": [],
   "source": [
    "using System.IO;\n",
    "using System.Collections.Generic;\n",
    "\n",
    "// Function to read environment variables from a .env file.\n",
    "Dictionary<string, string> ReadEnvFile(string filePath)\n",
    "{\n",
    "    var dict = new Dictionary<string, string>();\n",
    "    foreach (var line in File.ReadAllLines(filePath))\n",
    "    {\n",
    "        var parts = line.Split('=', 2);\n",
    "        if (parts.Length == 2)\n",
    "        {\n",
    "            var key = parts[0].Trim();\n",
    "            var value = parts[1].Trim().Trim('\"'); // Remove any double quotes\n",
    "            dict[key] = value;\n",
    "        }\n",
    "    }\n",
    "    return dict;\n",
    "}\n",
    "\n",
    "// Read the environment variables from the .env file\n",
    "var envVars = ReadEnvFile(\".env\");\n",
    "\n",
    "// Retrieve the OpenAI API base URL and key from the environment variables\n",
    "string endpoint = envVars[\"OPENAI_API_BASE\"];\n",
    "string apiKey = envVars[\"OPENAI_API_KEY\"];"
   ]
  },
  {
   "cell_type": "markdown",
   "metadata": {},
   "source": [
    "Text Chunking with Semantic Kernal"
   ]
  },
  {
   "cell_type": "code",
   "execution_count": null,
   "metadata": {
    "dotnet_interactive": {
     "language": "csharp"
    },
    "polyglot_notebook": {
     "kernelName": "csharp"
    }
   },
   "outputs": [],
   "source": [
    "#r \"nuget: Microsoft.SemanticKernel, 1.0.1\" "
   ]
  },
  {
   "cell_type": "code",
   "execution_count": null,
   "metadata": {
    "dotnet_interactive": {
     "language": "csharp"
    },
    "polyglot_notebook": {
     "kernelName": "csharp"
    }
   },
   "outputs": [],
   "source": [
    "using Microsoft.SemanticKernel.Text;\n",
    "\n",
    "// Read the entire content of the RAG update sample file \n",
    "string filePath = \"azure-functions-June-2023-Updates.txt\";\n",
    "string updateText = await File.ReadAllTextAsync(filePath);\n",
    "\n",
    "// Disable warning SKEXP0055 \n",
    "// 'Microsoft.SemanticKernel.Text.TextChunker' is for evaluation purposes only \n",
    "// and is subject to change or removal in future updates.\n",
    "#pragma warning disable SKEXP0055 \n",
    "\n",
    "// Split the update text into paragraphs\n",
    "// MaxTokensPerLine is set to 128 and MaxTokensPerParagraph is set to 250\n",
    "List<string> paragraphs = TextChunker.SplitPlainTextParagraphs(\n",
    "    TextChunker.SplitPlainTextLines(updateText, 128), //MaxTokensPerLine\n",
    "    250 //MaxTokensPerParagraph\n",
    ");\n",
    "\n",
    "// Re-enable warning SKEXP0055\n",
    "#pragma warning restore SKEXP0055 \n",
    "\n",
    "Console.WriteLine($\"Number of chunks: {paragraphs.Count}\");"
   ]
  },
  {
   "cell_type": "markdown",
   "metadata": {},
   "source": [
    "Create Embedding"
   ]
  },
  {
   "cell_type": "code",
   "execution_count": null,
   "metadata": {
    "dotnet_interactive": {
     "language": "csharp"
    },
    "polyglot_notebook": {
     "kernelName": "csharp"
    }
   },
   "outputs": [],
   "source": [
    "// Import required packages.\n",
    "#r \"nuget: Azure.AI.OpenAI, 1.0.0-beta.12\" \n",
    "#r \"nuget: Azure\""
   ]
  },
  {
   "cell_type": "code",
   "execution_count": null,
   "metadata": {
    "dotnet_interactive": {
     "language": "csharp"
    },
    "polyglot_notebook": {
     "kernelName": "csharp"
    }
   },
   "outputs": [],
   "source": [
    "using Azure;\n",
    "using Azure.AI.OpenAI;\n",
    "using System.Linq;\n",
    "\n",
    "AzureKeyCredential credentials = new (apiKey);\n",
    "OpenAIClient openAIClient = new (new Uri(endpoint), credentials);\n",
    "\n",
    "// Initialize a list to hold the embedding documents\n",
    "List<Dictionary<string, object>> inputDocuments = new();\n",
    "\n",
    "// Iterate over each paragraph in the chunks collection\n",
    "foreach (var paragraph in paragraphs)\n",
    "{\n",
    "    // Initialize a new dictionary to hold the current embedding document\n",
    "    Dictionary<string, object> currentDocument = new();\n",
    "\n",
    "    EmbeddingsOptions embeddingOptions = new()\n",
    "    {\n",
    "        // Specify the deployment name for the embedding model\n",
    "        DeploymentName = \"text-embedding-ada-002\",\n",
    "        Input = { paragraph },\n",
    "    };\n",
    "\n",
    "    // Get the embeddings for the current paragraph\n",
    "    var returnValue = openAIClient.GetEmbeddings(embeddingOptions);\n",
    "    float[] embeddingVector = returnValue.Value.Data[0].Embedding.ToArray();\n",
    "    \n",
    "    // Add the paragraph and its corresponding embeddings to the current document\n",
    "    currentDocument[\"id\"] = Guid.NewGuid().ToString();\n",
    "    currentDocument[\"content\"] = paragraph;\n",
    "    currentDocument[\"contentVector\"] = embeddingVector;\n",
    "    inputDocuments.Add(currentDocument);\n",
    "}\n",
    "\n",
    "// Get the embeddings for the first document in the list and pring it.\n",
    "float[] firstDocumentVector = (float[])inputDocuments.First()[\"contentVector\"];\n",
    "string embeddingString = String.Join(\", \", firstDocumentVector);\n",
    "Console.WriteLine(embeddingString);"
   ]
  },
  {
   "cell_type": "markdown",
   "metadata": {},
   "source": [
    "Create Vector Index on Azure AI Search"
   ]
  },
  {
   "cell_type": "code",
   "execution_count": 8,
   "metadata": {
    "dotnet_interactive": {
     "language": "csharp"
    },
    "polyglot_notebook": {
     "kernelName": "csharp"
    }
   },
   "outputs": [
    {
     "data": {
      "text/html": [
       "<div><div></div><div></div><div><strong>Installed Packages</strong><ul><li><span>Azure.Identity, 1.10.4</span></li><li><span>Azure.Search.Documents, 11.5.1</span></li></ul></div></div>"
      ]
     },
     "metadata": {},
     "output_type": "display_data"
    }
   ],
   "source": [
    "#r \"nuget: Azure.Search.Documents, 11.5.1\"\n",
    "#r \"nuget: Azure.Identity, 1.10.4\""
   ]
  },
  {
   "cell_type": "code",
   "execution_count": 9,
   "metadata": {
    "dotnet_interactive": {
     "language": "csharp"
    },
    "polyglot_notebook": {
     "kernelName": "csharp"
    }
   },
   "outputs": [],
   "source": [
    "using Azure.Search.Documents;\n",
    "using Azure.Search.Documents.Indexes;\n",
    "using Azure.Search.Documents.Indexes.Models;\n",
    "using Azure.Search.Documents.Models;\n",
    "using Azure;\n",
    "\n",
    "// Define the Azure Search service endpoint and admin key\n",
    "string serviceEndpoint = envVars[\"AZURE_SEARCH_SERVICE_ENDPOINT\"];\n",
    "string searchAdminKey = envVars[\"AZURE_SEARCH_ADMIN_KEY\"];\n",
    "\n",
    "string indexName = \"vectorindex\";\n",
    "var searchCredential = new AzureKeyCredential(searchAdminKey);\n",
    "var indexClient = new SearchIndexClient(new Uri(serviceEndpoint), searchCredential);\n",
    "var searchClient = indexClient.GetSearchClient(indexName);\n",
    "\n",
    "// Define the vector search profile and HNSW configuration. We will use the default values.\n",
    "string vectorSearchProfile = \"my-vector-profile\";\n",
    "string vectorSearchHnswConfig = \"my-hnsw-vector-config\";\n",
    "\n",
    "// Create a new SearchIndex Definition\n",
    "SearchIndex searchIndex = new(indexName)\n",
    "{\n",
    "    VectorSearch = new()\n",
    "    {\n",
    "        Profiles =\n",
    "        {\n",
    "            new VectorSearchProfile(vectorSearchProfile, vectorSearchHnswConfig)\n",
    "        },\n",
    "            Algorithms =\n",
    "        {\n",
    "            new HnswAlgorithmConfiguration(vectorSearchHnswConfig)\n",
    "        }\n",
    "    },\n",
    "    Fields =\n",
    "    {\n",
    "        new SimpleField(\"id\", SearchFieldDataType.String) \n",
    "        { \n",
    "            IsKey = true, \n",
    "            IsFilterable = true, \n",
    "            IsSortable = true\n",
    "        },\n",
    "        new SearchableField(\"content\") \n",
    "        { \n",
    "            IsFilterable = true \n",
    "        },\n",
    "        new SearchField(\"contentVector\", SearchFieldDataType.Collection(SearchFieldDataType.Single))\n",
    "        {\n",
    "            IsSearchable = true,\n",
    "            // Azure OpenAI model, text-embedding-ada-002 with 1,536 dimensions means one document would consume 1,536 floats.\n",
    "            VectorSearchDimensions = 1536,\n",
    "            VectorSearchProfileName = vectorSearchProfile\n",
    "        }\n",
    "    }\n",
    "};\n",
    "\n",
    "indexClient.CreateOrUpdateIndex(searchIndex);"
   ]
  },
  {
   "cell_type": "markdown",
   "metadata": {},
   "source": [
    "Upload Embeddings to Azure AI Search"
   ]
  },
  {
   "cell_type": "code",
   "execution_count": null,
   "metadata": {
    "dotnet_interactive": {
     "language": "csharp"
    },
    "polyglot_notebook": {
     "kernelName": "csharp"
    }
   },
   "outputs": [],
   "source": [
    "await searchClient.IndexDocumentsAsync(IndexDocumentsBatch.Upload(inputDocuments));"
   ]
  },
  {
   "cell_type": "markdown",
   "metadata": {},
   "source": [
    "Performing a vector similarity search"
   ]
  },
  {
   "cell_type": "code",
   "execution_count": null,
   "metadata": {
    "dotnet_interactive": {
     "language": "csharp"
    },
    "polyglot_notebook": {
     "kernelName": "csharp"
    }
   },
   "outputs": [],
   "source": [
    "var query = \"Can you provide the timestamp for the most recent information you have on Azure Functions? Please specify the date and time up to your last update. Give me only the date.\";"
   ]
  },
  {
   "cell_type": "code",
   "execution_count": null,
   "metadata": {
    "dotnet_interactive": {
     "language": "csharp"
    },
    "polyglot_notebook": {
     "kernelName": "csharp"
    }
   },
   "outputs": [],
   "source": [
    "// Generate the embedding for the query  \n",
    "EmbeddingsOptions embeddingOptions = new()\n",
    "{\n",
    "    DeploymentName = \"text-embedding-ada-002\",\n",
    "    Input = { query },\n",
    "};\n",
    "var returnValue = openAIClient.GetEmbeddings(embeddingOptions);\n",
    "float[] queryEmbeddings = returnValue.Value.Data[0].Embedding.ToArray();\n",
    "\n",
    "// Perform the vector similarity search  \n",
    "var searchOptions = new SearchOptions\n",
    "{\n",
    "    VectorSearch = new()\n",
    "    {\n",
    "        Queries = { new VectorizedQuery(queryEmbeddings.ToArray()) { KNearestNeighborsCount = 3, Fields = { \"contentVector\" } } }\n",
    "    },\n",
    "    Size = 3,\n",
    "    Select = { \"content\" },\n",
    "};\n",
    "\n",
    "// Initialize a list to store the search result documents for future RAG use.\n",
    "List<SearchDocument> searchDocuments = new List<SearchDocument>();\n",
    "\n",
    "// Perform the search and get the response\n",
    "SearchResults<SearchDocument> response = await searchClient.SearchAsync<SearchDocument>(query, searchOptions);\n",
    "\n",
    "await foreach (SearchResult<SearchDocument> result in response.GetResultsAsync())\n",
    "{\n",
    "    searchDocuments.Add(result.Document);\n",
    "    Console.WriteLine($\"Score: {result.Score}\\n\");\n",
    "    Console.WriteLine($\"Content: {result.Document[\"content\"]}\\n\");\n",
    "}\n",
    "\n",
    "Console.WriteLine($\"Total Results: {searchDocuments.Count}\");"
   ]
  },
  {
   "cell_type": "markdown",
   "metadata": {},
   "source": [
    "Retrievel Augmented Generation (RAG) - Standard GPT Output"
   ]
  },
  {
   "cell_type": "code",
   "execution_count": null,
   "metadata": {
    "dotnet_interactive": {
     "language": "csharp"
    },
    "polyglot_notebook": {
     "kernelName": "csharp"
    }
   },
   "outputs": [],
   "source": [
    "string chatDeploymentName = envVars[\"OPENAI_CHAT_DEPLOYMENT_NAME\"]; \n",
    "\n",
    "var chatCompletionsOptions = new ChatCompletionsOptions()\n",
    "{\n",
    "    DeploymentName = chatDeploymentName, \n",
    "    Messages =\n",
    "    {\n",
    "        new ChatRequestSystemMessage(\"You are a helpful assistant and always tell the truth. You dont talk much.\"),\n",
    "        new ChatRequestUserMessage(query)\n",
    "    },\n",
    "    MaxTokens = 100\n",
    "};\n",
    "\n",
    "Response<ChatCompletions> response = openAIClient.GetChatCompletions(chatCompletionsOptions);\n",
    "\n",
    "Console.WriteLine(response.Value.Choices[0].Message.Content);"
   ]
  },
  {
   "cell_type": "markdown",
   "metadata": {},
   "source": [
    "Retrievel Augmented Generation (RAG) - Augemented GPT Output"
   ]
  },
  {
   "cell_type": "code",
   "execution_count": null,
   "metadata": {
    "dotnet_interactive": {
     "language": "csharp"
    },
    "polyglot_notebook": {
     "kernelName": "csharp"
    }
   },
   "outputs": [],
   "source": [
    "string firstDocumentContent = searchDocuments[0][\"content\"].ToString();\n",
    "\n",
    "var chatCompletionsOptions = new ChatCompletionsOptions()\n",
    "{\n",
    "    DeploymentName = chatDeploymentName, \n",
    "    Messages =\n",
    "    {\n",
    "        new ChatRequestSystemMessage($\"You are a helpful assistant and always tell the truth. You dont talk much. Here is what you know : {firstDocumentContent}\"),\n",
    "        new ChatRequestUserMessage(query)\n",
    "    },\n",
    "    MaxTokens = 100\n",
    "};\n",
    "\n",
    "Response<ChatCompletions> response = openAIClient.GetChatCompletions(chatCompletionsOptions);\n",
    "\n",
    "Console.WriteLine(response.Value.Choices[0].Message.Content);"
   ]
  }
 ],
 "metadata": {
  "kernelspec": {
   "display_name": ".NET (C#)",
   "language": "C#",
   "name": ".net-csharp"
  },
  "language_info": {
   "name": "polyglot-notebook"
  },
  "polyglot_notebook": {
   "kernelInfo": {
    "defaultKernelName": "csharp",
    "items": [
     {
      "aliases": [],
      "languageName": "csharp",
      "name": "csharp"
     }
    ]
   }
  }
 },
 "nbformat": 4,
 "nbformat_minor": 2
}
