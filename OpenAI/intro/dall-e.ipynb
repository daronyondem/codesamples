{
 "cells": [
  {
   "cell_type": "code",
   "execution_count": null,
   "metadata": {},
   "outputs": [],
   "source": [
    "! pip install openai --upgrade"
   ]
  },
  {
   "cell_type": "markdown",
   "metadata": {},
   "source": [
    "### GPT-4 Vision : Image to Prompt"
   ]
  },
  {
   "cell_type": "code",
   "execution_count": null,
   "metadata": {},
   "outputs": [],
   "source": [
    "import os\n",
    "import openai\n",
    "import requests\n",
    "\n",
    "from PIL import Image\n",
    "from io import BytesIO\n",
    "from openai import OpenAI\n",
    "from dotenv import load_dotenv, find_dotenv\n",
    "load_dotenv(find_dotenv())\n",
    "\n",
    "api_key = os.getenv(\"OPENAI_GPT_VISION_API_KEY\")\n",
    "\n",
    "client = OpenAI()\n",
    "client.api_key=api_key\n",
    "\n",
    "image_url = \"https://news.microsoft.com/wp-content/uploads/prod/sites/68/2019/04/MSC17_dataCenter_050-960x640.jpg\"\n",
    "\n",
    "response = requests.get(image_url)\n",
    "img_url = Image.open(BytesIO(response.content))\n",
    "new_size = (500, 500)  \n",
    "img_resized = img_url.resize(new_size)\n",
    "display(img_resized)"
   ]
  },
  {
   "cell_type": "code",
   "execution_count": null,
   "metadata": {},
   "outputs": [],
   "source": [
    "response = client.chat.completions.create(\n",
    "  model=\"gpt-4-vision-preview\",\n",
    "  messages=[\n",
    "    {\n",
    "      \"role\": \"user\",\n",
    "      \"content\": [\n",
    "        {\"type\": \"text\", \"text\": \"Create me a highly detailled prompt I can use with Dall-E3 to craft a similar photo to the one attached. Give me the prompt only.\"},\n",
    "        {\n",
    "          \"type\": \"image_url\",\n",
    "          \"image_url\": {\n",
    "            \"url\": image_url,\n",
    "            \"detail\": \"high\"\n",
    "          },\n",
    "        },\n",
    "      ],\n",
    "    }\n",
    "  ],\n",
    "  max_tokens=500,\n",
    ")\n",
    "\n",
    "dalle3_prompt = response.choices[0].message.content\n",
    "print(dalle3_prompt)"
   ]
  },
  {
   "cell_type": "code",
   "execution_count": null,
   "metadata": {},
   "outputs": [],
   "source": [
    "from openai import AzureOpenAI\n",
    "\n",
    "openai.api_type: str = \"azure\"\n",
    "api_key = os.getenv(\"OPENAI_API_KEY\")\n",
    "api_base = os.getenv(\"OPENAI_API_BASE\")\n",
    "api_version = \"2023-12-01-preview\"\n",
    "print(\"Open AI version:\", openai.__version__)\n",
    "\n",
    "azure_client = AzureOpenAI(\n",
    "    api_version=api_version,\n",
    "    azure_endpoint=api_base,\n",
    "    api_key=api_key,\n",
    ")\n",
    "openai_client = OpenAI()"
   ]
  },
  {
   "cell_type": "code",
   "execution_count": null,
   "metadata": {},
   "outputs": [],
   "source": [
    "import json\n",
    "\n",
    "result = client.images.generate(\n",
    "        model=\"dall-e-3\",\n",
    "        prompt=dalle3_prompt,  # Prompt\n",
    "        n=1,  # Number of images\n",
    "        size=\"1024x1024\",  # 1792x1024 or 1024x1024 or 1024x1792\n",
    "        quality=\"hd\",  # hd or standard\n",
    "        style=\"vivid\",  # natural or vivid\n",
    "    )\n",
    "# Loading the json results\n",
    "results = json.loads(result.model_dump_json())\n",
    "# Getting the url image (the first one)\n",
    "dalle_image = requests.get(results[\"data\"][0][\"url\"]).content\n",
    "# Get PIL image\n",
    "img = Image.open(BytesIO(dalle_image))\n",
    "\n",
    "new_size = (500, 500)  \n",
    "img_resized = img.resize(new_size)\n",
    "display(img_resized)"
   ]
  }
 ],
 "metadata": {
  "kernelspec": {
   "display_name": "Python 3",
   "language": "python",
   "name": "python3"
  },
  "language_info": {
   "codemirror_mode": {
    "name": "ipython",
    "version": 3
   },
   "file_extension": ".py",
   "mimetype": "text/x-python",
   "name": "python",
   "nbconvert_exporter": "python",
   "pygments_lexer": "ipython3",
   "version": "3.12.0"
  },
  "orig_nbformat": 4
 },
 "nbformat": 4,
 "nbformat_minor": 2
}
